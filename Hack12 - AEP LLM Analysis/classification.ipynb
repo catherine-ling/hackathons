{
 "cells": [
  {
   "cell_type": "code",
   "execution_count": null,
   "metadata": {},
   "outputs": [
    {
     "name": "stderr",
     "output_type": "stream",
     "text": [
      "[nltk_data] Downloading package wordnet to\n",
      "[nltk_data]     C:\\Users\\cling\\AppData\\Roaming\\nltk_data...\n"
     ]
    },
    {
     "name": "stdout",
     "output_type": "stream",
     "text": [
      "   Unnamed: 0  OBSRVTN_NB                                             PNT_NM  \\\n",
      "0           0      330560  Did you recognize additional slip, trip, or fa...   \n",
      "1           1      164330                        Vehicle Operating Condition   \n",
      "2           2      265239                       Suspended Load/Overhead Work   \n",
      "3           3      404438                                    PPE - Workforce   \n",
      "4           4       83172                              Climbing - Procedures   \n",
      "\n",
      "                              PNT_ATRISKFOLWUPNTS_TX      datetime_parsed  \\\n",
      "0                                                NaN  2023-03-15 11:01:00   \n",
      "1                                                NaN  2019-07-09 10:00:00   \n",
      "2  Coached employee that once he had the culverts...  2022-08-01 10:15:00   \n",
      "3                                                NaN  2023-10-18 12:06:00   \n",
      "4                                                NaN  2021-03-03 11:00:00   \n",
      "\n",
      "         date      time                               cleaned_atrisk_notes  \\\n",
      "0  2023-03-15  11:01:00  name working near cliff 20 drop crew discuss h...   \n",
      "1  2019-07-09  10:00:00  name trucks cut bumbers need hitch step fabric...   \n",
      "2  2022-08-01  10:15:00  employee rigged concrete culvert load flat bed...   \n",
      "3  2023-10-18  12:06:00  name tender wearing hardhat recommended discus...   \n",
      "4  2021-03-03  11:00:00  drop zone clearly marked crew climber aloft br...   \n",
      "\n",
      "                      cleaned_qualifier  gravity_flag  motion_flag  \\\n",
      "0                 awareness environment         False        False   \n",
      "1           vehicle operating condition         False         True   \n",
      "2          suspended load overhead work         False        False   \n",
      "3                         ppe workforce         False        False   \n",
      "4  drop zone established clearly marked         False        False   \n",
      "\n",
      "   mechanical_flag  temperature_flag  pressure_flag  electrical_flag  \\\n",
      "0            False             False          False            False   \n",
      "1            False             False          False            False   \n",
      "2            False             False          False            False   \n",
      "3            False             False          False            False   \n",
      "4            False             False          False            False   \n",
      "\n",
      "   chemical_flag  \n",
      "0          False  \n",
      "1          False  \n",
      "2          False  \n",
      "3          False  \n",
      "4          False  \n"
     ]
    },
    {
     "name": "stderr",
     "output_type": "stream",
     "text": [
      "[nltk_data] Downloading package punkt to\n",
      "[nltk_data]     C:\\Users\\cling\\AppData\\Roaming\\nltk_data...\n",
      "[nltk_data]   Package punkt is already up-to-date!\n",
      "[nltk_data] Downloading package punkt_tab to\n",
      "[nltk_data]     C:\\Users\\cling\\AppData\\Roaming\\nltk_data...\n",
      "[nltk_data]   Package punkt_tab is already up-to-date!\n",
      "[nltk_data] Downloading package stopwords to\n",
      "[nltk_data]     C:\\Users\\cling\\AppData\\Roaming\\nltk_data...\n",
      "[nltk_data]   Package stopwords is already up-to-date!\n"
     ]
    }
   ],
   "source": [
    "import pandas as pd\n",
    "import nltk\n",
    "import re\n",
    "\n",
    "nltk.download('wordnet')\n",
    "from collections import Counter\n",
    "\n",
    "nltk.download('punkt')\n",
    "nltk.download('punkt_tab')\n",
    "nltk.download('stopwords')\n",
    "\n",
    "df = pd.read_csv('cleaned_data.csv')\n",
    "print(df.head())"
   ]
  },
  {
   "cell_type": "code",
   "execution_count": 25,
   "metadata": {},
   "outputs": [],
   "source": [
    "subcategory_keywords = {\n",
    "    # Gravity subcategories\n",
    "    \"Suspended Load\": ['suspended', 'heavy', '500 lbs', 'hoisting', 'load', 'lift', 'high', 'down to', 'drop zone'],\n",
    "    \"Fall from Elevation\": ['cliff', 'fell', 'fall from', 'ladder', 'scaffold'],\n",
    "    \n",
    "    # Motion subcategories\n",
    "    \"Vehicle Collision\": ['vehicle', 'collision', 'truck', 'car', 'crashed', 'hit by', 'driver', 'mph'],\n",
    "    \"Mobile Equipment\": ['forklift', 'truck', ' vehicle', 'mobile', 'equipment'],\n",
    "    \n",
    "    # Mechanical subcategories\n",
    "    \"Rotating Equipment\": ['rotating', 'turn', 'machinery', 'moving'],\n",
    "    \n",
    "    # Electrical subcategories\n",
    "    \"Electrical Contact\": ['electric', 'shock', 'contact', 'volts', 'wiring', 'zap', 'voltage', 'electricity'],\n",
    "    \"Arc Flash\": ['arc', 'arch', 'flash', 'electrical explosion', 'electric'],\n",
    "\n",
    "    # Temperature subcategories\n",
    "    \"High Temperature\": ['degrees', 'burn', 'steam'],\n",
    "    \"Steam\": ['steam', 'pressure', 'gas', 'compressed'],\n",
    "    \"Fire\": ['degree', 'a fire', 'flame', 'burn', 'fuel', 'hot', 'oxygen'],\n",
    "\n",
    "    # Pressure subcategories\n",
    "    \"Explosion\": ['explode', 'pressure', 'blew up', 'blow up', 'implode'],\n",
    "    \"Excavation\": ['soil', 'trench', 'excavat', 'pressure', 'buried', 'bury', 'deep'],\n",
    "\n",
    "    # Chemical/Radiation\n",
    "    \"Chemical\" : ['chem', 'radiation', 'radiated', 'expose', 'toxic']\n",
    "}\n"
   ]
  },
  {
   "cell_type": "code",
   "execution_count": null,
   "metadata": {},
   "outputs": [
    {
     "name": "stdout",
     "output_type": "stream",
     "text": [
      "                                              Prompt  \\\n",
      "0  [NAME] was working a near by cliff that had ab...   \n",
      "1  [NAME] trucks with cut out bumbers need a hitc...   \n",
      "2  Employee rigged a concrete culvert to be off l...   \n",
      "3  [NAME] tender was not wearing his Hardhat. I r...   \n",
      "4  A drop zone was not clearly marked by the crew...   \n",
      "\n",
      "                              Response  \n",
      "0                  Fall from Elevation  \n",
      "1  Vehicle Collision, Mobile Equipment  \n",
      "2                       Suspended Load  \n",
      "3                        Uncategorized  \n",
      "4                       Suspended Load  \n"
     ]
    }
   ],
   "source": [
    "def assign_subcategory(description):\n",
    "    description = description.lower()\n",
    "    matched_subcategories = []\n",
    "\n",
    "    for subcategory, keywords in subcategory_keywords.items():\n",
    "        if any(keyword in description for keyword in keywords):\n",
    "            matched_subcategories.append(subcategory)\n",
    "    \n",
    "    # if no subcategories matched, return \"Uncategorized\"\n",
    "    return ', '.join(matched_subcategories) if matched_subcategories else 'Uncategorized'\n",
    "\n",
    "# assign subcategories to each description\n",
    "df['Subcategory'] = df['cleaned_atrisk_notes'].apply(assign_subcategory)\n",
    "df2 = pd.read_csv('aep_data.csv')\n",
    "tdf = pd.DataFrame(df['Subcategory'])\n",
    "tdf['Prompt'] = df2['PNT_ATRISKNOTES_TX']\n",
    "tdf.rename(columns = {'Subcategory' : 'Response'}, inplace = True)\n",
    "tdf = tdf[['Prompt', 'Response']]\n",
    "print(tdf.head())\n",
    "tdf.to_csv('categorized_data.csv')"
   ]
  },
  {
   "cell_type": "code",
   "execution_count": null,
   "metadata": {},
   "outputs": [],
   "source": []
  }
 ],
 "metadata": {
  "kernelspec": {
   "display_name": "Python 3",
   "language": "python",
   "name": "python3"
  },
  "language_info": {
   "codemirror_mode": {
    "name": "ipython",
    "version": 3
   },
   "file_extension": ".py",
   "mimetype": "text/x-python",
   "name": "python",
   "nbconvert_exporter": "python",
   "pygments_lexer": "ipython3",
   "version": "3.11.10"
  }
 },
 "nbformat": 4,
 "nbformat_minor": 2
}
